{
 "cells": [
  {
   "cell_type": "code",
   "execution_count": 1,
   "id": "4cd11f8a",
   "metadata": {},
   "outputs": [],
   "source": [
    "import pandas as pd\n",
    "import numpy as np\n",
    "from sklearn.model_selection import KFold\n",
    "from sklearn.model_selection import cross_val_score\n",
    "from sklearn.neighbors import KNeighborsClassifier\n",
    "from sklearn.model_selection import train_test_split\n",
    "from sklearn.metrics import accuracy_score,classification_report\n",
    "import warnings\n",
    "warnings.filterwarnings('ignore')\n"
   ]
  },
  {
   "cell_type": "code",
   "execution_count": 2,
   "id": "396bd0a7",
   "metadata": {},
   "outputs": [
    {
     "data": {
      "text/html": [
       "<div>\n",
       "<style scoped>\n",
       "    .dataframe tbody tr th:only-of-type {\n",
       "        vertical-align: middle;\n",
       "    }\n",
       "\n",
       "    .dataframe tbody tr th {\n",
       "        vertical-align: top;\n",
       "    }\n",
       "\n",
       "    .dataframe thead th {\n",
       "        text-align: right;\n",
       "    }\n",
       "</style>\n",
       "<table border=\"1\" class=\"dataframe\">\n",
       "  <thead>\n",
       "    <tr style=\"text-align: right;\">\n",
       "      <th></th>\n",
       "      <th>RI</th>\n",
       "      <th>Na</th>\n",
       "      <th>Mg</th>\n",
       "      <th>Al</th>\n",
       "      <th>Si</th>\n",
       "      <th>K</th>\n",
       "      <th>Ca</th>\n",
       "      <th>Ba</th>\n",
       "      <th>Fe</th>\n",
       "      <th>Type</th>\n",
       "    </tr>\n",
       "  </thead>\n",
       "  <tbody>\n",
       "    <tr>\n",
       "      <th>0</th>\n",
       "      <td>1.52101</td>\n",
       "      <td>13.64</td>\n",
       "      <td>4.49</td>\n",
       "      <td>1.10</td>\n",
       "      <td>71.78</td>\n",
       "      <td>0.06</td>\n",
       "      <td>8.75</td>\n",
       "      <td>0.00</td>\n",
       "      <td>0.0</td>\n",
       "      <td>1</td>\n",
       "    </tr>\n",
       "    <tr>\n",
       "      <th>1</th>\n",
       "      <td>1.51761</td>\n",
       "      <td>13.89</td>\n",
       "      <td>3.60</td>\n",
       "      <td>1.36</td>\n",
       "      <td>72.73</td>\n",
       "      <td>0.48</td>\n",
       "      <td>7.83</td>\n",
       "      <td>0.00</td>\n",
       "      <td>0.0</td>\n",
       "      <td>1</td>\n",
       "    </tr>\n",
       "    <tr>\n",
       "      <th>2</th>\n",
       "      <td>1.51618</td>\n",
       "      <td>13.53</td>\n",
       "      <td>3.55</td>\n",
       "      <td>1.54</td>\n",
       "      <td>72.99</td>\n",
       "      <td>0.39</td>\n",
       "      <td>7.78</td>\n",
       "      <td>0.00</td>\n",
       "      <td>0.0</td>\n",
       "      <td>1</td>\n",
       "    </tr>\n",
       "    <tr>\n",
       "      <th>3</th>\n",
       "      <td>1.51766</td>\n",
       "      <td>13.21</td>\n",
       "      <td>3.69</td>\n",
       "      <td>1.29</td>\n",
       "      <td>72.61</td>\n",
       "      <td>0.57</td>\n",
       "      <td>8.22</td>\n",
       "      <td>0.00</td>\n",
       "      <td>0.0</td>\n",
       "      <td>1</td>\n",
       "    </tr>\n",
       "    <tr>\n",
       "      <th>4</th>\n",
       "      <td>1.51742</td>\n",
       "      <td>13.27</td>\n",
       "      <td>3.62</td>\n",
       "      <td>1.24</td>\n",
       "      <td>73.08</td>\n",
       "      <td>0.55</td>\n",
       "      <td>8.07</td>\n",
       "      <td>0.00</td>\n",
       "      <td>0.0</td>\n",
       "      <td>1</td>\n",
       "    </tr>\n",
       "    <tr>\n",
       "      <th>...</th>\n",
       "      <td>...</td>\n",
       "      <td>...</td>\n",
       "      <td>...</td>\n",
       "      <td>...</td>\n",
       "      <td>...</td>\n",
       "      <td>...</td>\n",
       "      <td>...</td>\n",
       "      <td>...</td>\n",
       "      <td>...</td>\n",
       "      <td>...</td>\n",
       "    </tr>\n",
       "    <tr>\n",
       "      <th>209</th>\n",
       "      <td>1.51623</td>\n",
       "      <td>14.14</td>\n",
       "      <td>0.00</td>\n",
       "      <td>2.88</td>\n",
       "      <td>72.61</td>\n",
       "      <td>0.08</td>\n",
       "      <td>9.18</td>\n",
       "      <td>1.06</td>\n",
       "      <td>0.0</td>\n",
       "      <td>7</td>\n",
       "    </tr>\n",
       "    <tr>\n",
       "      <th>210</th>\n",
       "      <td>1.51685</td>\n",
       "      <td>14.92</td>\n",
       "      <td>0.00</td>\n",
       "      <td>1.99</td>\n",
       "      <td>73.06</td>\n",
       "      <td>0.00</td>\n",
       "      <td>8.40</td>\n",
       "      <td>1.59</td>\n",
       "      <td>0.0</td>\n",
       "      <td>7</td>\n",
       "    </tr>\n",
       "    <tr>\n",
       "      <th>211</th>\n",
       "      <td>1.52065</td>\n",
       "      <td>14.36</td>\n",
       "      <td>0.00</td>\n",
       "      <td>2.02</td>\n",
       "      <td>73.42</td>\n",
       "      <td>0.00</td>\n",
       "      <td>8.44</td>\n",
       "      <td>1.64</td>\n",
       "      <td>0.0</td>\n",
       "      <td>7</td>\n",
       "    </tr>\n",
       "    <tr>\n",
       "      <th>212</th>\n",
       "      <td>1.51651</td>\n",
       "      <td>14.38</td>\n",
       "      <td>0.00</td>\n",
       "      <td>1.94</td>\n",
       "      <td>73.61</td>\n",
       "      <td>0.00</td>\n",
       "      <td>8.48</td>\n",
       "      <td>1.57</td>\n",
       "      <td>0.0</td>\n",
       "      <td>7</td>\n",
       "    </tr>\n",
       "    <tr>\n",
       "      <th>213</th>\n",
       "      <td>1.51711</td>\n",
       "      <td>14.23</td>\n",
       "      <td>0.00</td>\n",
       "      <td>2.08</td>\n",
       "      <td>73.36</td>\n",
       "      <td>0.00</td>\n",
       "      <td>8.62</td>\n",
       "      <td>1.67</td>\n",
       "      <td>0.0</td>\n",
       "      <td>7</td>\n",
       "    </tr>\n",
       "  </tbody>\n",
       "</table>\n",
       "<p>214 rows × 10 columns</p>\n",
       "</div>"
      ],
      "text/plain": [
       "          RI     Na    Mg    Al     Si     K    Ca    Ba   Fe  Type\n",
       "0    1.52101  13.64  4.49  1.10  71.78  0.06  8.75  0.00  0.0     1\n",
       "1    1.51761  13.89  3.60  1.36  72.73  0.48  7.83  0.00  0.0     1\n",
       "2    1.51618  13.53  3.55  1.54  72.99  0.39  7.78  0.00  0.0     1\n",
       "3    1.51766  13.21  3.69  1.29  72.61  0.57  8.22  0.00  0.0     1\n",
       "4    1.51742  13.27  3.62  1.24  73.08  0.55  8.07  0.00  0.0     1\n",
       "..       ...    ...   ...   ...    ...   ...   ...   ...  ...   ...\n",
       "209  1.51623  14.14  0.00  2.88  72.61  0.08  9.18  1.06  0.0     7\n",
       "210  1.51685  14.92  0.00  1.99  73.06  0.00  8.40  1.59  0.0     7\n",
       "211  1.52065  14.36  0.00  2.02  73.42  0.00  8.44  1.64  0.0     7\n",
       "212  1.51651  14.38  0.00  1.94  73.61  0.00  8.48  1.57  0.0     7\n",
       "213  1.51711  14.23  0.00  2.08  73.36  0.00  8.62  1.67  0.0     7\n",
       "\n",
       "[214 rows x 10 columns]"
      ]
     },
     "execution_count": 2,
     "metadata": {},
     "output_type": "execute_result"
    }
   ],
   "source": [
    "data = pd.read_csv(\"glass.csv\")\n",
    "data"
   ]
  },
  {
   "cell_type": "code",
   "execution_count": 26,
   "id": "13eb4f88",
   "metadata": {},
   "outputs": [
    {
     "data": {
      "text/plain": [
       "1"
      ]
     },
     "execution_count": 26,
     "metadata": {},
     "output_type": "execute_result"
    }
   ],
   "source": [
    "data.duplicated().sum()"
   ]
  },
  {
   "cell_type": "code",
   "execution_count": 27,
   "id": "beaeacc3",
   "metadata": {},
   "outputs": [
    {
     "data": {
      "text/plain": [
       "2    76\n",
       "1    70\n",
       "7    29\n",
       "3    17\n",
       "5    13\n",
       "6     9\n",
       "Name: Type, dtype: int64"
      ]
     },
     "execution_count": 27,
     "metadata": {},
     "output_type": "execute_result"
    }
   ],
   "source": [
    "data[\"Type\"].value_counts()"
   ]
  },
  {
   "cell_type": "code",
   "execution_count": 30,
   "id": "cd32196f",
   "metadata": {},
   "outputs": [
    {
     "data": {
      "text/plain": [
       "array([[0.43759398, 1.        , 0.25233645, ..., 0.30855019, 0.        ,\n",
       "        0.        ],\n",
       "       [0.47518797, 0.80178174, 0.33333333, ..., 0.22304833, 0.        ,\n",
       "        0.        ],\n",
       "       [0.42105263, 0.79064588, 0.3894081 , ..., 0.21840149, 0.        ,\n",
       "        0.        ],\n",
       "       ...,\n",
       "       [0.54586466, 0.        , 0.53894081, ..., 0.27973978, 0.52063492,\n",
       "        0.        ],\n",
       "       [0.54887218, 0.        , 0.51401869, ..., 0.28345725, 0.4984127 ,\n",
       "        0.        ],\n",
       "       [0.52631579, 0.        , 0.5576324 , ..., 0.2964684 , 0.53015873,\n",
       "        0.        ]])"
      ]
     },
     "execution_count": 30,
     "metadata": {},
     "output_type": "execute_result"
    }
   ],
   "source": [
    "x = (x - x.min(axis=0))/(x.max(axis=0)-x.min(axis=0))\n",
    "x"
   ]
  },
  {
   "cell_type": "code",
   "execution_count": 35,
   "id": "c9ce97e6",
   "metadata": {},
   "outputs": [],
   "source": [
    "x_train,x_test,y_train,y_test = train_test_split(x,y,test_size=0.3,shuffle=True,random_state=19)"
   ]
  },
  {
   "cell_type": "code",
   "execution_count": 37,
   "id": "434bd63e",
   "metadata": {},
   "outputs": [
    {
     "data": {
      "text/plain": [
       "0.676923076923077"
      ]
     },
     "execution_count": 37,
     "metadata": {},
     "output_type": "execute_result"
    }
   ],
   "source": [
    "model = KNeighborsClassifier(n_neighbors=1)\n",
    "model.fit(x_train,y_train)\n",
    "pred = model.predict(x_test)\n",
    "accuracy_score(pred,y_test)"
   ]
  },
  {
   "cell_type": "code",
   "execution_count": 39,
   "id": "897bd640",
   "metadata": {},
   "outputs": [
    {
     "name": "stdout",
     "output_type": "stream",
     "text": [
      "              precision    recall  f1-score   support\n",
      "\n",
      "           1       0.65      0.75      0.70        20\n",
      "           2       0.67      0.64      0.65        22\n",
      "           3       0.25      0.25      0.25         4\n",
      "           5       0.67      0.57      0.62         7\n",
      "           6       1.00      0.50      0.67         4\n",
      "           7       0.89      1.00      0.94         8\n",
      "\n",
      "    accuracy                           0.68        65\n",
      "   macro avg       0.69      0.62      0.64        65\n",
      "weighted avg       0.68      0.68      0.67        65\n",
      "\n"
     ]
    }
   ],
   "source": [
    "print(classification_report(y_test,pred))"
   ]
  },
  {
   "cell_type": "markdown",
   "id": "224fd008",
   "metadata": {},
   "source": [
    "# VISUALIZING THE CV RESULT"
   ]
  },
  {
   "cell_type": "code",
   "execution_count": 40,
   "id": "d00cc481",
   "metadata": {},
   "outputs": [
    {
     "name": "stdout",
     "output_type": "stream",
     "text": [
      "k value =  1\n",
      "              precision    recall  f1-score   support\n",
      "\n",
      "           1       0.65      0.75      0.70        20\n",
      "           2       0.67      0.64      0.65        22\n",
      "           3       0.25      0.25      0.25         4\n",
      "           5       0.67      0.57      0.62         7\n",
      "           6       1.00      0.50      0.67         4\n",
      "           7       0.89      1.00      0.94         8\n",
      "\n",
      "    accuracy                           0.68        65\n",
      "   macro avg       0.69      0.62      0.64        65\n",
      "weighted avg       0.68      0.68      0.67        65\n",
      "\n",
      "k value =  3\n",
      "              precision    recall  f1-score   support\n",
      "\n",
      "           1       0.71      0.75      0.73        20\n",
      "           2       0.63      0.77      0.69        22\n",
      "           3       0.00      0.00      0.00         4\n",
      "           5       0.67      0.29      0.40         7\n",
      "           6       1.00      0.50      0.67         4\n",
      "           7       0.80      1.00      0.89         8\n",
      "\n",
      "    accuracy                           0.68        65\n",
      "   macro avg       0.64      0.55      0.56        65\n",
      "weighted avg       0.66      0.68      0.65        65\n",
      "\n",
      "k value =  5\n",
      "              precision    recall  f1-score   support\n",
      "\n",
      "           1       0.73      0.80      0.76        20\n",
      "           2       0.61      0.77      0.68        22\n",
      "           3       0.00      0.00      0.00         4\n",
      "           5       0.67      0.29      0.40         7\n",
      "           6       0.00      0.00      0.00         4\n",
      "           7       0.80      1.00      0.89         8\n",
      "\n",
      "    accuracy                           0.66        65\n",
      "   macro avg       0.47      0.48      0.46        65\n",
      "weighted avg       0.60      0.66      0.62        65\n",
      "\n",
      "k value =  7\n",
      "              precision    recall  f1-score   support\n",
      "\n",
      "           1       0.64      0.80      0.71        20\n",
      "           2       0.68      0.77      0.72        22\n",
      "           3       0.00      0.00      0.00         4\n",
      "           5       0.50      0.29      0.36         7\n",
      "           6       0.00      0.00      0.00         4\n",
      "           7       0.89      1.00      0.94         8\n",
      "\n",
      "    accuracy                           0.66        65\n",
      "   macro avg       0.45      0.48      0.46        65\n",
      "weighted avg       0.59      0.66      0.62        65\n",
      "\n",
      "k value =  9\n",
      "              precision    recall  f1-score   support\n",
      "\n",
      "           1       0.62      0.75      0.68        20\n",
      "           2       0.65      0.77      0.71        22\n",
      "           3       0.00      0.00      0.00         4\n",
      "           5       0.50      0.29      0.36         7\n",
      "           6       0.00      0.00      0.00         4\n",
      "           7       0.89      1.00      0.94         8\n",
      "\n",
      "    accuracy                           0.65        65\n",
      "   macro avg       0.44      0.47      0.45        65\n",
      "weighted avg       0.58      0.65      0.60        65\n",
      "\n",
      "k value =  11\n",
      "              precision    recall  f1-score   support\n",
      "\n",
      "           1       0.62      0.75      0.68        20\n",
      "           2       0.63      0.77      0.69        22\n",
      "           3       0.00      0.00      0.00         4\n",
      "           5       0.25      0.14      0.18         7\n",
      "           6       0.00      0.00      0.00         4\n",
      "           7       1.00      1.00      1.00         8\n",
      "\n",
      "    accuracy                           0.63        65\n",
      "   macro avg       0.42      0.44      0.43        65\n",
      "weighted avg       0.56      0.63      0.59        65\n",
      "\n",
      "k value =  13\n",
      "              precision    recall  f1-score   support\n",
      "\n",
      "           1       0.65      0.75      0.70        20\n",
      "           2       0.64      0.82      0.72        22\n",
      "           3       0.00      0.00      0.00         4\n",
      "           5       1.00      0.14      0.25         7\n",
      "           6       0.00      0.00      0.00         4\n",
      "           7       0.73      1.00      0.84         8\n",
      "\n",
      "    accuracy                           0.65        65\n",
      "   macro avg       0.50      0.45      0.42        65\n",
      "weighted avg       0.62      0.65      0.59        65\n",
      "\n",
      "k value =  15\n",
      "              precision    recall  f1-score   support\n",
      "\n",
      "           1       0.64      0.80      0.71        20\n",
      "           2       0.63      0.77      0.69        22\n",
      "           3       0.00      0.00      0.00         4\n",
      "           5       1.00      0.14      0.25         7\n",
      "           6       0.00      0.00      0.00         4\n",
      "           7       0.73      1.00      0.84         8\n",
      "\n",
      "    accuracy                           0.65        65\n",
      "   macro avg       0.50      0.45      0.42        65\n",
      "weighted avg       0.61      0.65      0.58        65\n",
      "\n",
      "k value =  17\n",
      "              precision    recall  f1-score   support\n",
      "\n",
      "           1       0.64      0.80      0.71        20\n",
      "           2       0.61      0.77      0.68        22\n",
      "           3       0.00      0.00      0.00         4\n",
      "           5       0.00      0.00      0.00         7\n",
      "           6       0.00      0.00      0.00         4\n",
      "           7       0.73      1.00      0.84         8\n",
      "\n",
      "    accuracy                           0.63        65\n",
      "   macro avg       0.33      0.43      0.37        65\n",
      "weighted avg       0.49      0.63      0.55        65\n",
      "\n",
      "k value =  19\n",
      "              precision    recall  f1-score   support\n",
      "\n",
      "           1       0.59      0.80      0.68        20\n",
      "           2       0.59      0.73      0.65        22\n",
      "           3       0.00      0.00      0.00         4\n",
      "           5       0.00      0.00      0.00         7\n",
      "           6       0.00      0.00      0.00         4\n",
      "           7       0.73      1.00      0.84         8\n",
      "\n",
      "    accuracy                           0.62        65\n",
      "   macro avg       0.32      0.42      0.36        65\n",
      "weighted avg       0.47      0.62      0.53        65\n",
      "\n",
      "k value =  21\n",
      "              precision    recall  f1-score   support\n",
      "\n",
      "           1       0.59      0.80      0.68        20\n",
      "           2       0.62      0.73      0.67        22\n",
      "           3       0.00      0.00      0.00         4\n",
      "           5       0.00      0.00      0.00         7\n",
      "           6       0.00      0.00      0.00         4\n",
      "           7       0.67      1.00      0.80         8\n",
      "\n",
      "    accuracy                           0.62        65\n",
      "   macro avg       0.31      0.42      0.36        65\n",
      "weighted avg       0.47      0.62      0.53        65\n",
      "\n",
      "k value =  23\n",
      "              precision    recall  f1-score   support\n",
      "\n",
      "           1       0.59      0.80      0.68        20\n",
      "           2       0.62      0.73      0.67        22\n",
      "           3       0.00      0.00      0.00         4\n",
      "           5       0.00      0.00      0.00         7\n",
      "           6       0.00      0.00      0.00         4\n",
      "           7       0.67      1.00      0.80         8\n",
      "\n",
      "    accuracy                           0.62        65\n",
      "   macro avg       0.31      0.42      0.36        65\n",
      "weighted avg       0.47      0.62      0.53        65\n",
      "\n",
      "k value =  25\n",
      "              precision    recall  f1-score   support\n",
      "\n",
      "           1       0.59      0.80      0.68        20\n",
      "           2       0.62      0.73      0.67        22\n",
      "           3       0.00      0.00      0.00         4\n",
      "           5       0.00      0.00      0.00         7\n",
      "           6       0.00      0.00      0.00         4\n",
      "           7       0.67      1.00      0.80         8\n",
      "\n",
      "    accuracy                           0.62        65\n",
      "   macro avg       0.31      0.42      0.36        65\n",
      "weighted avg       0.47      0.62      0.53        65\n",
      "\n",
      "k value =  27\n",
      "              precision    recall  f1-score   support\n",
      "\n",
      "           1       0.57      0.80      0.67        20\n",
      "           2       0.60      0.68      0.64        22\n",
      "           3       0.00      0.00      0.00         4\n",
      "           5       0.00      0.00      0.00         7\n",
      "           6       0.00      0.00      0.00         4\n",
      "           7       0.67      1.00      0.80         8\n",
      "\n",
      "    accuracy                           0.60        65\n",
      "   macro avg       0.31      0.41      0.35        65\n",
      "weighted avg       0.46      0.60      0.52        65\n",
      "\n",
      "k value =  29\n",
      "              precision    recall  f1-score   support\n",
      "\n",
      "           1       0.54      0.75      0.63        20\n",
      "           2       0.60      0.68      0.64        22\n",
      "           3       0.00      0.00      0.00         4\n",
      "           5       0.00      0.00      0.00         7\n",
      "           6       0.00      0.00      0.00         4\n",
      "           7       0.67      1.00      0.80         8\n",
      "\n",
      "    accuracy                           0.58        65\n",
      "   macro avg       0.30      0.41      0.34        65\n",
      "weighted avg       0.45      0.58      0.51        65\n",
      "\n",
      "k value =  31\n",
      "              precision    recall  f1-score   support\n",
      "\n",
      "           1       0.52      0.75      0.61        20\n",
      "           2       0.58      0.64      0.61        22\n",
      "           3       0.00      0.00      0.00         4\n",
      "           5       0.00      0.00      0.00         7\n",
      "           6       0.00      0.00      0.00         4\n",
      "           7       0.67      1.00      0.80         8\n",
      "\n",
      "    accuracy                           0.57        65\n",
      "   macro avg       0.29      0.40      0.34        65\n",
      "weighted avg       0.44      0.57      0.49        65\n",
      "\n"
     ]
    },
    {
     "name": "stdout",
     "output_type": "stream",
     "text": [
      "k value =  33\n",
      "              precision    recall  f1-score   support\n",
      "\n",
      "           1       0.50      0.75      0.60        20\n",
      "           2       0.61      0.64      0.62        22\n",
      "           3       0.00      0.00      0.00         4\n",
      "           5       0.00      0.00      0.00         7\n",
      "           6       0.00      0.00      0.00         4\n",
      "           7       0.67      1.00      0.80         8\n",
      "\n",
      "    accuracy                           0.57        65\n",
      "   macro avg       0.30      0.40      0.34        65\n",
      "weighted avg       0.44      0.57      0.49        65\n",
      "\n",
      "k value =  35\n",
      "              precision    recall  f1-score   support\n",
      "\n",
      "           1       0.53      0.80      0.64        20\n",
      "           2       0.68      0.68      0.68        22\n",
      "           3       0.00      0.00      0.00         4\n",
      "           5       0.00      0.00      0.00         7\n",
      "           6       0.00      0.00      0.00         4\n",
      "           7       0.62      1.00      0.76         8\n",
      "\n",
      "    accuracy                           0.60        65\n",
      "   macro avg       0.31      0.41      0.35        65\n",
      "weighted avg       0.47      0.60      0.52        65\n",
      "\n",
      "k value =  37\n",
      "              precision    recall  f1-score   support\n",
      "\n",
      "           1       0.55      0.80      0.65        20\n",
      "           2       0.70      0.73      0.71        22\n",
      "           3       0.00      0.00      0.00         4\n",
      "           5       0.00      0.00      0.00         7\n",
      "           6       0.00      0.00      0.00         4\n",
      "           7       0.62      1.00      0.76         8\n",
      "\n",
      "    accuracy                           0.62        65\n",
      "   macro avg       0.31      0.42      0.35        65\n",
      "weighted avg       0.48      0.62      0.54        65\n",
      "\n",
      "k value =  39\n",
      "              precision    recall  f1-score   support\n",
      "\n",
      "           1       0.53      0.80      0.64        20\n",
      "           2       0.65      0.68      0.67        22\n",
      "           3       0.00      0.00      0.00         4\n",
      "           5       0.00      0.00      0.00         7\n",
      "           6       0.00      0.00      0.00         4\n",
      "           7       0.67      1.00      0.80         8\n",
      "\n",
      "    accuracy                           0.60        65\n",
      "   macro avg       0.31      0.41      0.35        65\n",
      "weighted avg       0.47      0.60      0.52        65\n",
      "\n"
     ]
    }
   ],
   "source": [
    "import matplotlib.pyplot as plt\n",
    "%matplotlib inline\n",
    "k_range = [2*i+1 for i in range(0,20)]\n",
    "k_scores = []\n",
    "for k in k_range:\n",
    "    knn = KNeighborsClassifier(n_neighbors=k)\n",
    "    scores = cross_val_score(knn,x_train , y_train, cv=10)\n",
    "    k_scores.append(scores.mean())\n",
    "    print(\"k value = \",k)\n",
    "    model = KNeighborsClassifier(n_neighbors=k)\n",
    "    model.fit(x_train,y_train)\n",
    "    pred = model.predict(x_test)\n",
    "    print(classification_report(y_test,pred))\n"
   ]
  },
  {
   "cell_type": "code",
   "execution_count": 41,
   "id": "7e6f2366",
   "metadata": {},
   "outputs": [
    {
     "data": {
      "image/png": "[encoded data removed]",
      "text/plain": [
       "<Figure size 640x480 with 1 Axes>"
      ]
     },
     "metadata": {},
     "output_type": "display_data"
    }
   ],
   "source": [
    "plt.bar(k_range, k_scores)\n",
    "plt.plot(k_range, k_scores, color = \"RED\")\n",
    "plt.xlabel('value of K for KNN')\n",
    "plt.ylabel('Cross-Validation Accuracy')\n",
    "plt.xticks(k_range)\n",
    "plt.show()"
   ]
  },
  {
   "cell_type": "code",
   "execution_count": 42,
   "id": "907064ce",
   "metadata": {},
   "outputs": [
    {
     "data": {
      "text/plain": [
       "0"
      ]
     },
     "execution_count": 42,
     "metadata": {},
     "output_type": "execute_result"
    }
   ],
   "source": [
    "np.argmax(k_scores)"
   ]
  },
  {
   "cell_type": "code",
   "execution_count": 43,
   "id": "bc39210a",
   "metadata": {},
   "outputs": [
    {
     "data": {
      "text/plain": [
       "1"
      ]
     },
     "execution_count": 43,
     "metadata": {},
     "output_type": "execute_result"
    }
   ],
   "source": [
    "k_range[0]"
   ]
  },
  {
   "cell_type": "code",
   "execution_count": 45,
   "id": "c7db94c9",
   "metadata": {},
   "outputs": [
    {
     "data": {
      "text/plain": [
       "0.6852380952380953"
      ]
     },
     "execution_count": 45,
     "metadata": {},
     "output_type": "execute_result"
    }
   ],
   "source": [
    "k_scores[1]"
   ]
  },
  {
   "cell_type": "code",
   "execution_count": 46,
   "id": "22f8127e",
   "metadata": {},
   "outputs": [
    {
     "name": "stdout",
     "output_type": "stream",
     "text": [
      "              precision    recall  f1-score   support\n",
      "\n",
      "           1       0.65      0.75      0.70        20\n",
      "           2       0.67      0.64      0.65        22\n",
      "           3       0.25      0.25      0.25         4\n",
      "           5       0.67      0.57      0.62         7\n",
      "           6       1.00      0.50      0.67         4\n",
      "           7       0.89      1.00      0.94         8\n",
      "\n",
      "    accuracy                           0.68        65\n",
      "   macro avg       0.69      0.62      0.64        65\n",
      "weighted avg       0.68      0.68      0.67        65\n",
      "\n"
     ]
    }
   ],
   "source": [
    "model = KNeighborsClassifier(n_neighbors=1)\n",
    "model.fit(x_train,y_train)\n",
    "pred = model.predict(x_test)\n",
    "accuracy_score(pred,y_test)\n",
    "print(classification_report(y_test,pred))"
   ]
  },
  {
   "cell_type": "code",
   "execution_count": null,
   "id": "aa0b4523",
   "metadata": {},
   "outputs": [],
   "source": []
  },
  {
   "cell_type": "code",
   "execution_count": null,
   "id": "614427e9",
   "metadata": {},
   "outputs": [],
   "source": []
  }
 ],
 "metadata": {
  "kernelspec": {
   "display_name": "Python 3 (ipykernel)",
   "language": "python",
   "name": "python3"
  },
  "language_info": {
   "codemirror_mode": {
    "name": "ipython",
    "version": 3
   },
   "file_extension": ".py",
   "mimetype": "text/x-python",
   "name": "python",
   "nbconvert_exporter": "python",
   "pygments_lexer": "ipython3",
   "version": "3.9.13"
  }
 },
 "nbformat": 4,
 "nbformat_minor": 5
}
